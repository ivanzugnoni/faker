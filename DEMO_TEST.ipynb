{
 "cells": [
  {
   "cell_type": "raw",
   "metadata": {},
   "source": [
    "_|_|_|_|          _|\n",
    "_|        _|_|_|  _|  _|      _|_|    _|  _|_|\n",
    "_|_|_|  _|    _|  _|_|      _|_|_|_|  _|_|\n",
    "_|      _|    _|  _|  _|    _|        _|\n",
    "_|        _|_|_|  _|    _|    _|_|_|  _|"
   ]
  },
  {
   "cell_type": "markdown",
   "metadata": {},
   "source": [
    "## Basic Usage\n",
    "\n",
    "Install with `pip`:"
   ]
  },
  {
   "cell_type": "code",
   "execution_count": 44,
   "metadata": {},
   "outputs": [
    {
     "name": "stdout",
     "output_type": "stream",
     "text": [
      "Requirement already satisfied: Faker in /usr/local/lib/python3.6/site-packages (1.0.0)\n",
      "Requirement already satisfied: six>=1.10 in /usr/local/lib/python3.6/site-packages (from Faker) (1.11.0)\n",
      "Requirement already satisfied: python-dateutil>=2.4 in /usr/local/lib/python3.6/site-packages (from Faker) (2.7.5)\n",
      "Requirement already satisfied: text-unidecode==1.2 in /usr/local/lib/python3.6/site-packages (from Faker) (1.2)\n",
      "\u001b[33mYou are using pip version 18.0, however version 18.1 is available.\n",
      "You should consider upgrading via the 'pip install --upgrade pip' command.\u001b[0m\n"
     ]
    }
   ],
   "source": [
    "!pip install Faker"
   ]
  },
  {
   "cell_type": "markdown",
   "metadata": {},
   "source": [
    "Use `faker.Faker()` to create and initialize a faker\n",
    "generator, which can generate data by accessing properties named after\n",
    "the type of data you want."
   ]
  },
  {
   "cell_type": "code",
   "execution_count": 70,
   "metadata": {},
   "outputs": [],
   "source": [
    "from faker import Faker\n",
    "\n",
    "fake = Faker()"
   ]
  },
  {
   "cell_type": "code",
   "execution_count": 46,
   "metadata": {},
   "outputs": [
    {
     "data": {
      "text/plain": [
       "'Jacob Stein'"
      ]
     },
     "execution_count": 46,
     "metadata": {},
     "output_type": "execute_result"
    }
   ],
   "source": [
    "fake.name()"
   ]
  },
  {
   "cell_type": "code",
   "execution_count": 47,
   "metadata": {},
   "outputs": [
    {
     "data": {
      "text/plain": [
       "'46936 Poole Lock\\nNorth Amandaview, NC 77660'"
      ]
     },
     "execution_count": 47,
     "metadata": {},
     "output_type": "execute_result"
    }
   ],
   "source": [
    "fake.address()"
   ]
  },
  {
   "cell_type": "code",
   "execution_count": 48,
   "metadata": {},
   "outputs": [
    {
     "data": {
      "text/plain": [
       "'No itself detail out create. Then go hope attention friend. Crime gas rather run house laugh health price. Suffer federal lot next senior statement.'"
      ]
     },
     "execution_count": 48,
     "metadata": {},
     "output_type": "execute_result"
    }
   ],
   "source": [
    "fake.text()"
   ]
  },
  {
   "cell_type": "markdown",
   "metadata": {},
   "source": [
    "Each call to method `fake.name()` yields a different (random) result.\n",
    "This is because faker forwards `faker.Generator.method_name()` calls\n",
    "to `faker.Generator.format(method_name)`."
   ]
  },
  {
   "cell_type": "code",
   "execution_count": 49,
   "metadata": {},
   "outputs": [
    {
     "name": "stdout",
     "output_type": "stream",
     "text": [
      "Dr. Eric Rios\n",
      "Amy Cook\n",
      "Daniel Johnson\n",
      "Jennifer Green\n",
      "Barbara Williams\n",
      "Gabriel Rodriguez\n",
      "Mr. Aaron Walker PhD\n",
      "Ashley Miller\n",
      "Bradley Carter\n",
      "Elizabeth Tyler\n"
     ]
    }
   ],
   "source": [
    "for _ in range(10):\n",
    "  print(fake.name())"
   ]
  },
  {
   "cell_type": "markdown",
   "metadata": {},
   "source": [
    "## Providers\n",
    "\n",
    "Each of the generator properties (like `name`, `address`, and\n",
    "`lorem`) are called \"fake\". A faker generator has many of them,\n",
    "packaged in \"providers\"."
   ]
  },
  {
   "cell_type": "code",
   "execution_count": 50,
   "metadata": {},
   "outputs": [],
   "source": [
    "from faker import Factory\n",
    "from faker.providers import internet"
   ]
  },
  {
   "cell_type": "code",
   "execution_count": 51,
   "metadata": {},
   "outputs": [
    {
     "data": {
      "text/plain": [
       "'172.31.189.102'"
      ]
     },
     "execution_count": 51,
     "metadata": {},
     "output_type": "execute_result"
    }
   ],
   "source": [
    "fake = Factory.create()\n",
    "fake.add_provider(internet)\n",
    "fake.ipv4_private()"
   ]
  },
  {
   "cell_type": "markdown",
   "metadata": {},
   "source": [
    "Check the `extended docs`_ for a list of `bundled providers`_ and a list of\n",
    "`community providers`_."
   ]
  },
  {
   "cell_type": "markdown",
   "metadata": {},
   "source": [
    "## Localization"
   ]
  },
  {
   "cell_type": "markdown",
   "metadata": {},
   "source": [
    "``faker.Factory`` can take a locale as an argument, to return localized\n",
    "data. If no localized provider is found, the factory falls back to the\n",
    "default en\\_US locale."
   ]
  },
  {
   "cell_type": "code",
   "execution_count": 52,
   "metadata": {},
   "outputs": [
    {
     "name": "stdout",
     "output_type": "stream",
     "text": [
      "Selvaggia Basile\n",
      "Sig.ra Sarita Martino\n",
      "Damiano Battaglia\n",
      "Damiana Gentile\n",
      "Sig. Vinicio Mazza\n",
      "Alessandro Sanna\n",
      "Albino Martini\n",
      "Davis Colombo\n",
      "Luce Battaglia\n",
      "Mariagiulia Milani\n"
     ]
    }
   ],
   "source": [
    "fake = Faker('it_IT')\n",
    "\n",
    "for _ in range(10):\n",
    "    print(fake.name())"
   ]
  },
  {
   "cell_type": "markdown",
   "metadata": {},
   "source": [
    "## Command line usage\n",
    "\n",
    "When installed, you can invoke faker from the command-line:"
   ]
  },
  {
   "cell_type": "raw",
   "metadata": {},
   "source": [
    "faker [-h] [--version] [-o output]\n",
    "      [-l {bg_BG,cs_CZ,...,zh_CN,zh_TW}]\n",
    "      [-r REPEAT] [-s SEP]\n",
    "      [-i {package.containing.custom_provider otherpkg.containing.custom_provider}]\n",
    "      [fake] [fake argument [fake argument ...]]"
   ]
  },
  {
   "cell_type": "markdown",
   "metadata": {},
   "source": [
    "Where:\n",
    "\n",
    "-  ``faker``: is the script when installed in your environment, in\n",
    "   development you could use ``python -m faker`` instead\n",
    "\n",
    "-  ``-h``, ``--help``: shows a help message\n",
    "\n",
    "-  ``--version``: shows the program's version number\n",
    "\n",
    "-  ``-o FILENAME``: redirects the output to the specified filename\n",
    "\n",
    "-  ``-l {bg_BG,cs_CZ,...,zh_CN,zh_TW}``: allows use of a localized\n",
    "   provider\n",
    "\n",
    "-  ``-r REPEAT``: will generate a specified number of outputs\n",
    "\n",
    "-  ``-s SEP``: will generate the specified separator after each\n",
    "   generated output\n",
    "\n",
    "-  ``-i {my.custom_provider other.custom_provider}`` list of additional custom providers to use.\n",
    "   Note that is the import path of the package containing your Provider class, not the custom Provider class itself.\n",
    "\n",
    "-  ``fake``: is the name of the fake to generate an output for, such as\n",
    "   ``name``, ``address``, or ``text``\n",
    "\n",
    "-  ``[fake argument ...]``: optional arguments to pass to the fake (e.g. the profile fake takes an optional list of comma separated field names as the first argument)"
   ]
  },
  {
   "cell_type": "code",
   "execution_count": 53,
   "metadata": {},
   "outputs": [
    {
     "name": "stdout",
     "output_type": "stream",
     "text": [
      "01238 Darlene Lodge Apt. 793\n",
      "Powellport, OH 68681\n",
      "\n"
     ]
    }
   ],
   "source": [
    "!faker address"
   ]
  },
  {
   "cell_type": "code",
   "execution_count": 54,
   "metadata": {},
   "outputs": [
    {
     "name": "stdout",
     "output_type": "stream",
     "text": [
      "Mina-Adolph-Straße 1/5\n",
      "90627 Hildburghausen\n",
      "\n"
     ]
    }
   ],
   "source": [
    "!faker -l de_DE address"
   ]
  },
  {
   "cell_type": "code",
   "execution_count": 55,
   "metadata": {},
   "outputs": [
    {
     "name": "stdout",
     "output_type": "stream",
     "text": [
      "{'ssn': '543-04-7629', 'birthdate': datetime.date(1957, 12, 11)}\n",
      "\n"
     ]
    }
   ],
   "source": [
    "!faker profile ssn,birthdate"
   ]
  },
  {
   "cell_type": "code",
   "execution_count": 56,
   "metadata": {},
   "outputs": [
    {
     "name": "stdout",
     "output_type": "stream",
     "text": [
      "Rachel Meyer;\n",
      "Joshua Wood;\n",
      "Brian Foster;\n"
     ]
    }
   ],
   "source": [
    "!faker -r=3 -s=\";\" name"
   ]
  },
  {
   "cell_type": "markdown",
   "metadata": {},
   "source": [
    "## How to create a Provider"
   ]
  },
  {
   "cell_type": "code",
   "execution_count": 57,
   "metadata": {},
   "outputs": [],
   "source": [
    "from faker import Faker\n",
    "\n",
    "fake = Faker()\n",
    "\n",
    "# first, import a similar Provider or use the default one\n",
    "from faker.providers import BaseProvider\n",
    "\n",
    "# create new provider class. Note that the class name _must_ be ``Provider``.\n",
    "class Provider(BaseProvider):\n",
    "    def foo(self):\n",
    "        return 'bar'"
   ]
  },
  {
   "cell_type": "code",
   "execution_count": 58,
   "metadata": {},
   "outputs": [],
   "source": [
    "# then add new provider to faker instance\n",
    "fake.add_provider(Provider)"
   ]
  },
  {
   "cell_type": "code",
   "execution_count": 59,
   "metadata": {},
   "outputs": [
    {
     "data": {
      "text/plain": [
       "'bar'"
      ]
     },
     "execution_count": 59,
     "metadata": {},
     "output_type": "execute_result"
    }
   ],
   "source": [
    "# now you can use:\n",
    "fake.foo()"
   ]
  },
  {
   "cell_type": "markdown",
   "metadata": {},
   "source": [
    "## How to customize the Lorem Provider\n",
    "\n",
    "You can provide your own sets of words if you don't want to use the\n",
    "default lorem ipsum one. The following example shows how to do it with a list of words picked from [cakeipsum](http://www.cupcakeipsum.com/):"
   ]
  },
  {
   "cell_type": "code",
   "execution_count": 61,
   "metadata": {},
   "outputs": [],
   "source": [
    "from faker import Faker\n",
    "\n",
    "fake = Faker()\n",
    "\n",
    "my_word_list = [\n",
    "    'danish', 'cheesecake', 'sugar',\n",
    "    'Lollipop', 'wafer', 'Gummies',\n",
    "    'sesame', 'Jelly', 'beans',\n",
    "    'pie', 'bar', 'Ice', 'oat' \n",
    "]"
   ]
  },
  {
   "cell_type": "code",
   "execution_count": 62,
   "metadata": {},
   "outputs": [
    {
     "data": {
      "text/plain": [
       "'Election appear drop than group happy.'"
      ]
     },
     "execution_count": 62,
     "metadata": {},
     "output_type": "execute_result"
    }
   ],
   "source": [
    "fake.sentence()"
   ]
  },
  {
   "cell_type": "code",
   "execution_count": 63,
   "metadata": {},
   "outputs": [
    {
     "data": {
      "text/plain": [
       "'Gummies sugar wafer.'"
      ]
     },
     "execution_count": 63,
     "metadata": {},
     "output_type": "execute_result"
    }
   ],
   "source": [
    "fake.sentence(ext_word_list=my_word_list)"
   ]
  },
  {
   "cell_type": "markdown",
   "metadata": {},
   "source": [
    "## How to use with Factory Boy\n",
    "\n",
    "`Factory Boy` already ships with integration with `Faker`. Simply use the\n",
    "`factory.Faker` method of `factory_boy`:"
   ]
  },
  {
   "cell_type": "code",
   "execution_count": 64,
   "metadata": {},
   "outputs": [
    {
     "name": "stdout",
     "output_type": "stream",
     "text": [
      "Requirement already satisfied: factory_boy in /usr/local/lib/python3.6/site-packages (2.11.1)\n",
      "Requirement already satisfied: Faker>=0.7.0 in /usr/local/lib/python3.6/site-packages (from factory_boy) (1.0.0)\n",
      "Requirement already satisfied: six>=1.10 in /usr/local/lib/python3.6/site-packages (from Faker>=0.7.0->factory_boy) (1.11.0)\n",
      "Requirement already satisfied: python-dateutil>=2.4 in /usr/local/lib/python3.6/site-packages (from Faker>=0.7.0->factory_boy) (2.7.5)\n",
      "Requirement already satisfied: text-unidecode==1.2 in /usr/local/lib/python3.6/site-packages (from Faker>=0.7.0->factory_boy) (1.2)\n",
      "\u001b[33mYou are using pip version 18.0, however version 18.1 is available.\n",
      "You should consider upgrading via the 'pip install --upgrade pip' command.\u001b[0m\n"
     ]
    }
   ],
   "source": [
    "!pip install factory_boy"
   ]
  },
  {
   "cell_type": "code",
   "execution_count": null,
   "metadata": {},
   "outputs": [],
   "source": [
    "import factory\n",
    "from myapp.models import Book\n",
    "\n",
    "class BookFactory(factory.Factory):\n",
    "    class Meta:\n",
    "        model = Book\n",
    "\n",
    "    title = factory.Faker('sentence', nb_words=4)\n",
    "    author_name = factory.Faker('name')"
   ]
  },
  {
   "cell_type": "markdown",
   "metadata": {},
   "source": [
    "## Accessing the `random` instance\n",
    "\n",
    "The `.random` property on the generator returns the instance of `random.Random`\n",
    "used to generate the values:"
   ]
  },
  {
   "cell_type": "code",
   "execution_count": 66,
   "metadata": {},
   "outputs": [
    {
     "data": {
      "text/plain": [
       "<random.Random at 0x1c52b38>"
      ]
     },
     "execution_count": 66,
     "metadata": {},
     "output_type": "execute_result"
    }
   ],
   "source": [
    "from faker import Faker\n",
    "\n",
    "fake = Faker()\n",
    "fake.random"
   ]
  },
  {
   "cell_type": "code",
   "execution_count": 67,
   "metadata": {},
   "outputs": [
    {
     "data": {
      "text/plain": [
       "(3,\n",
       " (2202722593,\n",
       "  1374536301,\n",
       "  4070640579,\n",
       "  3280550057,\n",
       "  4263013885,\n",
       "  3104612088,\n",
       "  2757469464,\n",
       "  1018755220,\n",
       "  2438892272,\n",
       "  4149363440,\n",
       "  1729400124,\n",
       "  887981495,\n",
       "  3714403648,\n",
       "  1069875331,\n",
       "  760646072,\n",
       "  3663299008,\n",
       "  360040817,\n",
       "  2076211270,\n",
       "  231756273,\n",
       "  2028804264,\n",
       "  2208772478,\n",
       "  386390637,\n",
       "  3039566985,\n",
       "  591796815,\n",
       "  3070319676,\n",
       "  1417796092,\n",
       "  1982645156,\n",
       "  529693592,\n",
       "  1621047280,\n",
       "  735713212,\n",
       "  1118855102,\n",
       "  2827779975,\n",
       "  49175730,\n",
       "  1120370988,\n",
       "  3055673873,\n",
       "  225727657,\n",
       "  3179925892,\n",
       "  702623782,\n",
       "  2542869185,\n",
       "  63835049,\n",
       "  4190066371,\n",
       "  748684578,\n",
       "  2023292173,\n",
       "  2615951400,\n",
       "  335611938,\n",
       "  3104267539,\n",
       "  3431551365,\n",
       "  2398243669,\n",
       "  1296993034,\n",
       "  118923433,\n",
       "  1024777300,\n",
       "  1690033261,\n",
       "  4060122179,\n",
       "  3663098231,\n",
       "  690120122,\n",
       "  1335022143,\n",
       "  3987145459,\n",
       "  955555202,\n",
       "  817349782,\n",
       "  4170863438,\n",
       "  455918111,\n",
       "  2857410508,\n",
       "  1726094886,\n",
       "  2805115729,\n",
       "  1982054213,\n",
       "  994350042,\n",
       "  219306426,\n",
       "  3485357261,\n",
       "  2517598431,\n",
       "  2725457916,\n",
       "  547932243,\n",
       "  2272701874,\n",
       "  1331658354,\n",
       "  1181492808,\n",
       "  2843361432,\n",
       "  280014393,\n",
       "  2532801339,\n",
       "  2549455515,\n",
       "  3311442304,\n",
       "  1096327822,\n",
       "  2962458874,\n",
       "  3241893671,\n",
       "  676728041,\n",
       "  2414524699,\n",
       "  776162935,\n",
       "  830788348,\n",
       "  1807259699,\n",
       "  503072012,\n",
       "  1074478806,\n",
       "  1835461905,\n",
       "  1067406034,\n",
       "  2017250235,\n",
       "  2085039469,\n",
       "  3247247568,\n",
       "  3708383635,\n",
       "  2005194246,\n",
       "  94651101,\n",
       "  1427809357,\n",
       "  587881061,\n",
       "  2262515837,\n",
       "  3089899292,\n",
       "  3059977575,\n",
       "  62589240,\n",
       "  853785190,\n",
       "  1602127873,\n",
       "  1870011319,\n",
       "  1670435262,\n",
       "  627351637,\n",
       "  3497496213,\n",
       "  3548263849,\n",
       "  2378881012,\n",
       "  1176015658,\n",
       "  3248510886,\n",
       "  984768478,\n",
       "  2634671770,\n",
       "  2200045368,\n",
       "  1836711948,\n",
       "  1811956924,\n",
       "  820887851,\n",
       "  1020964933,\n",
       "  2058019491,\n",
       "  1298050010,\n",
       "  1449502472,\n",
       "  949686169,\n",
       "  1595429751,\n",
       "  3622140774,\n",
       "  3617559418,\n",
       "  1878479472,\n",
       "  3491274394,\n",
       "  2836031290,\n",
       "  2138287343,\n",
       "  2136329891,\n",
       "  895748130,\n",
       "  1169148313,\n",
       "  1394952979,\n",
       "  1114453359,\n",
       "  3053986590,\n",
       "  1110540998,\n",
       "  2440153499,\n",
       "  2519732004,\n",
       "  3560576265,\n",
       "  2082413691,\n",
       "  2735349418,\n",
       "  2084589871,\n",
       "  2386767818,\n",
       "  3168530059,\n",
       "  2332743670,\n",
       "  3372586225,\n",
       "  1850733914,\n",
       "  2793487750,\n",
       "  23128902,\n",
       "  1749775421,\n",
       "  2097440798,\n",
       "  321922253,\n",
       "  21696974,\n",
       "  2318472178,\n",
       "  3374778693,\n",
       "  1209207716,\n",
       "  1901070834,\n",
       "  1287714359,\n",
       "  2844131030,\n",
       "  2931698844,\n",
       "  2969198468,\n",
       "  4208156155,\n",
       "  2503078981,\n",
       "  1167072446,\n",
       "  2945704671,\n",
       "  1997086676,\n",
       "  3447705436,\n",
       "  933112121,\n",
       "  360926680,\n",
       "  2837059473,\n",
       "  3350478807,\n",
       "  2343593058,\n",
       "  2278746235,\n",
       "  3441597151,\n",
       "  590913892,\n",
       "  1449585586,\n",
       "  2706802128,\n",
       "  3912788112,\n",
       "  3619356440,\n",
       "  1433489660,\n",
       "  2845736736,\n",
       "  4278359797,\n",
       "  2796921512,\n",
       "  4259744895,\n",
       "  2633017214,\n",
       "  2534980195,\n",
       "  1065676465,\n",
       "  3003662901,\n",
       "  2382060429,\n",
       "  1476160485,\n",
       "  953496909,\n",
       "  2483983240,\n",
       "  1518563562,\n",
       "  1928269208,\n",
       "  1280569620,\n",
       "  65113536,\n",
       "  2448045616,\n",
       "  2567703366,\n",
       "  2031390655,\n",
       "  1875645729,\n",
       "  26121975,\n",
       "  1368706057,\n",
       "  4287774231,\n",
       "  211682702,\n",
       "  1376817656,\n",
       "  4240974379,\n",
       "  3915767196,\n",
       "  2653473933,\n",
       "  3275151831,\n",
       "  3861460537,\n",
       "  2547679995,\n",
       "  702514031,\n",
       "  3656462950,\n",
       "  3489357440,\n",
       "  1958824868,\n",
       "  2435786794,\n",
       "  3980768829,\n",
       "  2571317033,\n",
       "  3876033690,\n",
       "  4260452795,\n",
       "  2353660143,\n",
       "  852680202,\n",
       "  152182688,\n",
       "  2253973871,\n",
       "  2664275947,\n",
       "  567832787,\n",
       "  2449666518,\n",
       "  2304571413,\n",
       "  2700115095,\n",
       "  1426907170,\n",
       "  1449778933,\n",
       "  1768429172,\n",
       "  1981572152,\n",
       "  1712846283,\n",
       "  773981686,\n",
       "  3211655414,\n",
       "  637023728,\n",
       "  2703961754,\n",
       "  2836836074,\n",
       "  1327598568,\n",
       "  2199068003,\n",
       "  2309835911,\n",
       "  3687197355,\n",
       "  1483485564,\n",
       "  2292164533,\n",
       "  3789368723,\n",
       "  1963234425,\n",
       "  3403519834,\n",
       "  745512743,\n",
       "  3711178769,\n",
       "  2984765561,\n",
       "  18800955,\n",
       "  3007212973,\n",
       "  3543375538,\n",
       "  3540756757,\n",
       "  2035453570,\n",
       "  3003694929,\n",
       "  525784220,\n",
       "  2766336219,\n",
       "  115284688,\n",
       "  1370421072,\n",
       "  3537866361,\n",
       "  1844367808,\n",
       "  3916546038,\n",
       "  1543209223,\n",
       "  1311542523,\n",
       "  2344992974,\n",
       "  1339671253,\n",
       "  371506528,\n",
       "  3849343638,\n",
       "  1321349776,\n",
       "  1803036971,\n",
       "  1163830447,\n",
       "  2181945208,\n",
       "  1910195016,\n",
       "  3748228412,\n",
       "  946325991,\n",
       "  1683814561,\n",
       "  2323275025,\n",
       "  3269553668,\n",
       "  546364560,\n",
       "  760399844,\n",
       "  739767722,\n",
       "  3678843444,\n",
       "  4246232678,\n",
       "  3778679023,\n",
       "  319202678,\n",
       "  2775563748,\n",
       "  312995881,\n",
       "  710270920,\n",
       "  2167410422,\n",
       "  1948067304,\n",
       "  2048155955,\n",
       "  377716731,\n",
       "  3956427046,\n",
       "  1814419949,\n",
       "  2138607558,\n",
       "  943315789,\n",
       "  3483685406,\n",
       "  2391978908,\n",
       "  2133712959,\n",
       "  525371706,\n",
       "  2616818457,\n",
       "  374422210,\n",
       "  2750962100,\n",
       "  2031503863,\n",
       "  2350772183,\n",
       "  2124145888,\n",
       "  3768568681,\n",
       "  2585128479,\n",
       "  2637291157,\n",
       "  688583,\n",
       "  2646294452,\n",
       "  558568243,\n",
       "  4221784190,\n",
       "  178380663,\n",
       "  1470118642,\n",
       "  3095532800,\n",
       "  1634538882,\n",
       "  1153692326,\n",
       "  3893445982,\n",
       "  3173191144,\n",
       "  2731896981,\n",
       "  3282312667,\n",
       "  179378745,\n",
       "  3447804937,\n",
       "  626700491,\n",
       "  4194401459,\n",
       "  4161476313,\n",
       "  3947454835,\n",
       "  1669271133,\n",
       "  2036982269,\n",
       "  2784921449,\n",
       "  2106999688,\n",
       "  1014201174,\n",
       "  4037024802,\n",
       "  32171145,\n",
       "  2887843969,\n",
       "  3491406220,\n",
       "  3183585832,\n",
       "  3538303368,\n",
       "  2736395401,\n",
       "  1541002404,\n",
       "  1235040198,\n",
       "  43638159,\n",
       "  2834251630,\n",
       "  2100851503,\n",
       "  1081709591,\n",
       "  2152915520,\n",
       "  1196447430,\n",
       "  3028611075,\n",
       "  2632177363,\n",
       "  1117932796,\n",
       "  2842640663,\n",
       "  722619132,\n",
       "  3918564076,\n",
       "  1683615441,\n",
       "  2265907237,\n",
       "  3600934095,\n",
       "  727454508,\n",
       "  3485776845,\n",
       "  1000657340,\n",
       "  1373221537,\n",
       "  3233922828,\n",
       "  1100408477,\n",
       "  1578022247,\n",
       "  2023498239,\n",
       "  3376421314,\n",
       "  2220302991,\n",
       "  3758572161,\n",
       "  2233052524,\n",
       "  888925690,\n",
       "  2803302439,\n",
       "  3515165108,\n",
       "  2674763796,\n",
       "  2592742351,\n",
       "  4066531733,\n",
       "  2998948222,\n",
       "  332321544,\n",
       "  3387039700,\n",
       "  3071562884,\n",
       "  313620965,\n",
       "  2531039893,\n",
       "  170372403,\n",
       "  297760724,\n",
       "  2860834882,\n",
       "  108612409,\n",
       "  366910933,\n",
       "  34405060,\n",
       "  3453144040,\n",
       "  778126,\n",
       "  115538766,\n",
       "  3580364722,\n",
       "  4020511620,\n",
       "  2361372545,\n",
       "  1672770683,\n",
       "  3810924382,\n",
       "  1220648039,\n",
       "  2871529733,\n",
       "  3770563874,\n",
       "  3213402856,\n",
       "  2828748179,\n",
       "  4217646812,\n",
       "  3230755501,\n",
       "  648899791,\n",
       "  4248826513,\n",
       "  2554744439,\n",
       "  613056525,\n",
       "  2713956481,\n",
       "  2881183924,\n",
       "  2270527010,\n",
       "  947720777,\n",
       "  3401470261,\n",
       "  935084356,\n",
       "  2851306434,\n",
       "  4073975477,\n",
       "  854491322,\n",
       "  4282788349,\n",
       "  2986843652,\n",
       "  30739874,\n",
       "  3553077740,\n",
       "  2085197364,\n",
       "  4160474293,\n",
       "  1396177325,\n",
       "  3220295258,\n",
       "  4133813759,\n",
       "  992350222,\n",
       "  3276680205,\n",
       "  1496055216,\n",
       "  1527767260,\n",
       "  2712112956,\n",
       "  2159743690,\n",
       "  361745213,\n",
       "  1151846248,\n",
       "  2976727032,\n",
       "  2033788215,\n",
       "  1895701558,\n",
       "  2695336990,\n",
       "  3985876207,\n",
       "  58637718,\n",
       "  1100793414,\n",
       "  3892900570,\n",
       "  1637908736,\n",
       "  1063016057,\n",
       "  2780151081,\n",
       "  267392256,\n",
       "  3730853563,\n",
       "  2694296547,\n",
       "  1515113041,\n",
       "  136879013,\n",
       "  3342945621,\n",
       "  198065421,\n",
       "  616798895,\n",
       "  3806029092,\n",
       "  2150018629,\n",
       "  2888620152,\n",
       "  1165512471,\n",
       "  3954971088,\n",
       "  4230005413,\n",
       "  2068333458,\n",
       "  1175782364,\n",
       "  2612669068,\n",
       "  1633423762,\n",
       "  1424175476,\n",
       "  1639389733,\n",
       "  503232031,\n",
       "  3364997510,\n",
       "  289124556,\n",
       "  1957221271,\n",
       "  3554727709,\n",
       "  1140886518,\n",
       "  3269237998,\n",
       "  585340879,\n",
       "  2604751512,\n",
       "  2496181400,\n",
       "  2986813266,\n",
       "  2986697603,\n",
       "  3296671446,\n",
       "  3991915356,\n",
       "  1152329425,\n",
       "  1277197236,\n",
       "  2721615950,\n",
       "  908193691,\n",
       "  2159346900,\n",
       "  995322635,\n",
       "  2872634502,\n",
       "  2225563769,\n",
       "  382456366,\n",
       "  1976537210,\n",
       "  4196191580,\n",
       "  3290408433,\n",
       "  197568520,\n",
       "  3790972228,\n",
       "  3772204460,\n",
       "  4282744685,\n",
       "  1084597670,\n",
       "  2963869134,\n",
       "  2907123316,\n",
       "  290000391,\n",
       "  4167019374,\n",
       "  203773672,\n",
       "  839361292,\n",
       "  4054768386,\n",
       "  913555224,\n",
       "  3533051144,\n",
       "  2871653468,\n",
       "  3321430490,\n",
       "  502809927,\n",
       "  3802262026,\n",
       "  3704647660,\n",
       "  2181417384,\n",
       "  1540603144,\n",
       "  3547838917,\n",
       "  3397277970,\n",
       "  2569748079,\n",
       "  818107290,\n",
       "  988396369,\n",
       "  1918697242,\n",
       "  4035247106,\n",
       "  2083187153,\n",
       "  3334947140,\n",
       "  1693508495,\n",
       "  2653383612,\n",
       "  3698953185,\n",
       "  3379274606,\n",
       "  3421358464,\n",
       "  1618488194,\n",
       "  4245782004,\n",
       "  2134528498,\n",
       "  1721130851,\n",
       "  1120665899,\n",
       "  2852761168,\n",
       "  3005955778,\n",
       "  56986568,\n",
       "  1281813679,\n",
       "  467237904,\n",
       "  2675688881,\n",
       "  2138974343,\n",
       "  2061557330,\n",
       "  315447434,\n",
       "  1560806876,\n",
       "  2528565976,\n",
       "  1139943595,\n",
       "  582527297,\n",
       "  1991963756,\n",
       "  561603876,\n",
       "  1700130947,\n",
       "  1007017214,\n",
       "  996798726,\n",
       "  3483199345,\n",
       "  1677434721,\n",
       "  349799101,\n",
       "  3773616405,\n",
       "  1991251879,\n",
       "  2026995330,\n",
       "  2788499532,\n",
       "  1481869869,\n",
       "  3769081849,\n",
       "  92420005,\n",
       "  2738989649,\n",
       "  4019973649,\n",
       "  585582583,\n",
       "  3013307353,\n",
       "  1081434365,\n",
       "  1772551304,\n",
       "  3777797522,\n",
       "  2425583618,\n",
       "  11828551,\n",
       "  1560950151,\n",
       "  3762508144,\n",
       "  3030536739,\n",
       "  709031307,\n",
       "  2048434474,\n",
       "  907034779,\n",
       "  1280646033,\n",
       "  3958544441,\n",
       "  592151716,\n",
       "  1379799590,\n",
       "  2033526367,\n",
       "  1532556816,\n",
       "  480705504,\n",
       "  1868930173,\n",
       "  2295865559,\n",
       "  2611548267,\n",
       "  3386952452,\n",
       "  474008980,\n",
       "  3260306974,\n",
       "  1405924799,\n",
       "  2421452295,\n",
       "  2441582209,\n",
       "  3650797626,\n",
       "  2734168287,\n",
       "  1395283223,\n",
       "  3060353206,\n",
       "  3733837335,\n",
       "  1371583078,\n",
       "  3947477453,\n",
       "  3813850148,\n",
       "  194559179,\n",
       "  1228071054,\n",
       "  1656049985,\n",
       "  3861244881,\n",
       "  2975616726,\n",
       "  1250645632,\n",
       "  3572361470,\n",
       "  2525173327,\n",
       "  4085740618,\n",
       "  3609619556,\n",
       "  1508218865,\n",
       "  2501854603,\n",
       "  666708285,\n",
       "  3538930626,\n",
       "  618726033,\n",
       "  3355390339,\n",
       "  3961255128,\n",
       "  694602848,\n",
       "  2429693126,\n",
       "  2491361611,\n",
       "  760435886,\n",
       "  1497407658,\n",
       "  2340814092,\n",
       "  1410494414,\n",
       "  319),\n",
       " None)"
      ]
     },
     "execution_count": 67,
     "metadata": {},
     "output_type": "execute_result"
    }
   ],
   "source": [
    "fake.random.getstate()"
   ]
  },
  {
   "cell_type": "markdown",
   "metadata": {},
   "source": [
    "By default all generators share the same instance of `random.Random`, which\n",
    "can be accessed with `from faker.generator import random`. Using this may\n",
    "be useful for plugins that want to affect all faker instances."
   ]
  },
  {
   "cell_type": "markdown",
   "metadata": {},
   "source": [
    "## Seeding the Generator\n",
    "\n",
    "When using Faker for unit testing, you will often want to generate the same\n",
    "data set. For convenience, the generator also provide a `seed()` method, which\n",
    "seeds the shared random number generator. Calling the same methods with the\n",
    "same version of faker and seed produces the same results."
   ]
  },
  {
   "cell_type": "code",
   "execution_count": 68,
   "metadata": {},
   "outputs": [
    {
     "data": {
      "text/plain": [
       "'Jason Brown'"
      ]
     },
     "execution_count": 68,
     "metadata": {},
     "output_type": "execute_result"
    }
   ],
   "source": [
    "from faker import Faker\n",
    "\n",
    "fake = Faker()\n",
    "fake.seed(4321)\n",
    "\n",
    "fake.name()"
   ]
  },
  {
   "cell_type": "markdown",
   "metadata": {},
   "source": [
    "Each generator can also be switched to its own instance of `random.Random`,\n",
    "separate to the shared one, by using the `seed_instance()` method, which acts\n",
    "the same way. For example:"
   ]
  },
  {
   "cell_type": "code",
   "execution_count": 69,
   "metadata": {},
   "outputs": [
    {
     "data": {
      "text/plain": [
       "'Jason Brown'"
      ]
     },
     "execution_count": 69,
     "metadata": {},
     "output_type": "execute_result"
    }
   ],
   "source": [
    "from faker import Faker\n",
    "\n",
    "fake = Faker()\n",
    "fake.seed_instance(4321)\n",
    "\n",
    "fake.name()"
   ]
  },
  {
   "cell_type": "markdown",
   "metadata": {},
   "source": [
    "Please note that as we keep updating datasets, results are not guaranteed to be\n",
    "consistent across patch versions. If you hardcode results in your test, make sure\n",
    "you pinned the version of `Faker` down to the patch number."
   ]
  }
 ],
 "metadata": {
  "kernelspec": {
   "display_name": "Python 3",
   "language": "python",
   "name": "python3"
  },
  "language_info": {
   "codemirror_mode": {
    "name": "ipython",
    "version": 3
   },
   "file_extension": ".py",
   "mimetype": "text/x-python",
   "name": "python",
   "nbconvert_exporter": "python",
   "pygments_lexer": "ipython3",
   "version": "3.6.6"
  }
 },
 "nbformat": 4,
 "nbformat_minor": 2
}
